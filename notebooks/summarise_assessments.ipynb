{
 "cells": [
  {
   "cell_type": "code",
   "execution_count": null,
   "metadata": {
    "collapsed": false
   },
   "outputs": [],
   "source": [
    "using DataFrames"
   ]
  },
  {
   "cell_type": "code",
   "execution_count": null,
   "metadata": {
    "collapsed": false
   },
   "outputs": [],
   "source": [
    "function audit_file(fn::String)\n",
    "    tab = readtable(fn)\n",
    "    println(tab)\n",
    "    unassigned = sum(tab[:unassigned])\n",
    "    delete!(tab, [:true_sample, :unassigned])\n",
    "    assigned = DataArray(tab)\n",
    "    correct = sum(diag(assigned))\n",
    "    incorrect = sum(assigned) - correct\n",
    "    \n",
    "    return  (correct, incorrect, unassigned)\n",
    "end"
   ]
  },
  {
   "cell_type": "markdown",
   "metadata": {
    "collapsed": false
   },
   "source": [
    "Uses dataframes directly\n",
    "\n",
    "```julia\n",
    "files = readdir(\"../data/assessments/\")\n",
    "stats = DataFrame([String, String, String, Int, Int, Int],\n",
    "                  [:Seed, :BarcodeSet, :Demuxer, :Correct, :Incorrect, :Unasssigned],\n",
    "                  0)\n",
    "for fpath in files\n",
    "    f, _ = splitext(fpath)\n",
    "    seed, barcode, demuxer = split(f, \"_\")\n",
    "    correct, incorrect, unassigned = audit_file(\"../data/assessments/\" * fpath)\n",
    "    \n",
    "    push!(stats, @data([seed, barcode, demuxer, correct, incorrect, unassigned]))\n",
    "end\n",
    "```"
   ]
  },
  {
   "cell_type": "code",
   "execution_count": null,
   "metadata": {
    "collapsed": false
   },
   "outputs": [],
   "source": [
    "files = readdir(\"../data/assessments/\")\n",
    "open(\"assessment_summary.tsv\", \"w\") do outfile\n",
    "    println(outfile, \"Seed\\tBarcodeSet\\tDemuxer\\tCorrect\\tIncorrect\\tUnassigned\")\n",
    "    for fpath in files\n",
    "        f, _ = splitext(fpath)\n",
    "        seed, barcode, demuxer = split(f, \"_\")\n",
    "        correct, incorrect, unassigned = audit_file(\"../data/assessments/\" * fpath)\n",
    "\n",
    "        println(outfile, join(map(string, [seed, barcode, demuxer, correct, incorrect, unassigned]), '\\t'))\n",
    "    end\n",
    "end"
   ]
  },
  {
   "cell_type": "code",
   "execution_count": null,
   "metadata": {
    "collapsed": false
   },
   "outputs": [],
   "source": []
  }
 ],
 "metadata": {
  "kernelspec": {
   "display_name": "Julia 0.5.0",
   "language": "julia",
   "name": "julia-0.5"
  },
  "language_info": {
   "file_extension": ".jl",
   "mimetype": "application/julia",
   "name": "julia",
   "version": "0.5.0"
  }
 },
 "nbformat": 4,
 "nbformat_minor": 2
}
