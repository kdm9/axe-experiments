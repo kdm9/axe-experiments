{
 "cells": [
  {
   "cell_type": "code",
   "execution_count": null,
   "metadata": {
    "collapsed": false,
    "deletable": true,
    "editable": true
   },
   "outputs": [],
   "source": [
    "library(tidyverse)\n",
    "library(ggplot2)"
   ]
  },
  {
   "cell_type": "markdown",
   "metadata": {},
   "source": [
    "# Accuracy"
   ]
  },
  {
   "cell_type": "code",
   "execution_count": null,
   "metadata": {
    "collapsed": false,
    "deletable": true,
    "editable": true
   },
   "outputs": [],
   "source": [
    "acc =  read.delim(\"../data/stats/accuracy_summary.tsv\")\n",
    "\n",
    "acc = acc %>%\n",
    "    gather(\"Correctness\", \"Reads\", -Seed, -Demuxer, -BarcodeSet)\n",
    "\n",
    "acc.summ = acc %>%\n",
    "    group_by(Demuxer, BarcodeSet, Correctness) %>%\n",
    "    summarise(reads.mean = mean(Reads),\n",
    "              reads.sd = sd(Reads))"
   ]
  },
  {
   "cell_type": "code",
   "execution_count": null,
   "metadata": {
    "collapsed": false,
    "deletable": true,
    "editable": true
   },
   "outputs": [],
   "source": [
    "ggplot(acc, aes(x=Demuxer, y=Reads)) +\n",
    "    geom_bar(aes(fill=Correctness), stat=\"identity\") +\n",
    "    scale_fill_brewer(palette = \"Set1\") + #manual(values=c(\"green\", \"red\", \"blue\")) +\n",
    "    facet_grid(~BarcodeSet) + #, scales=\"free_x\") +\n",
    "    theme_bw()"
   ]
  },
  {
   "cell_type": "markdown",
   "metadata": {},
   "source": [
    "# Timing"
   ]
  },
  {
   "cell_type": "code",
   "execution_count": null,
   "metadata": {
    "collapsed": false,
    "deletable": true,
    "editable": true
   },
   "outputs": [],
   "source": [
    "timing = read.delim(\"../data/stats//timing_summary.tsv\")"
   ]
  },
  {
   "cell_type": "code",
   "execution_count": null,
   "metadata": {
    "collapsed": false
   },
   "outputs": [],
   "source": [
    "timing.summ = timing %>%\n",
    "    group_by(Demuxer, BarcodeSet) %>%\n",
    "    summarise(time.mean = mean(Sec),\n",
    "              time.sd = sd(Sec))"
   ]
  },
  {
   "cell_type": "code",
   "execution_count": null,
   "metadata": {
    "collapsed": false
   },
   "outputs": [],
   "source": [
    "ggplot(timing.summ, aes(x=Demuxer, y=time.mean)) +\n",
    "    geom_bar(aes(fill=Demuxer), stat=\"identity\") +\n",
    "    geom_errorbar(aes(ymin=time.mean-time.sd, ymax=time.mean+time.sd)) +\n",
    "    scale_fill_brewer(palette = \"Set1\") +\n",
    "    facet_wrap(~BarcodeSet, ncol=2) +\n",
    "    theme_bw()"
   ]
  },
  {
   "cell_type": "code",
   "execution_count": null,
   "metadata": {
    "collapsed": false
   },
   "outputs": [],
   "source": []
  }
 ],
 "metadata": {
  "kernelspec": {
   "display_name": "R",
   "language": "R",
   "name": "ir"
  },
  "language_info": {
   "codemirror_mode": "r",
   "file_extension": ".r",
   "mimetype": "text/x-r-source",
   "name": "R",
   "pygments_lexer": "r",
   "version": "3.3.3"
  }
 },
 "nbformat": 4,
 "nbformat_minor": 2
}
