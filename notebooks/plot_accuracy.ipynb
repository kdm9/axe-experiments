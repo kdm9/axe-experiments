{
 "cells": [
  {
   "cell_type": "code",
   "execution_count": null,
   "metadata": {
    "deletable": true,
    "editable": true
   },
   "outputs": [],
   "source": [
    "library(tidyverse)\n",
    "library(ggplot2)"
   ]
  },
  {
   "cell_type": "markdown",
   "metadata": {
    "deletable": true,
    "editable": true
   },
   "source": [
    "# Accuracy"
   ]
  },
  {
   "cell_type": "code",
   "execution_count": null,
   "metadata": {
    "deletable": true,
    "editable": true
   },
   "outputs": [],
   "source": [
    "acc =  read.delim(\"../data/stats/accuracy_summary.tsv\")\n",
    "\n",
    "acc = acc %>%\n",
    "    gather(\"Correctness\", \"Reads\", -Seed, -Demuxer, -BarcodeSet) %>%\n",
    "    mutate(nidx = as.numeric(sub(\"(\\\\d+)-(\\\\d+)bp-(\\\\w+)\", \"\\\\1\", BarcodeSet)),\n",
    "           paired = sub(\"(\\\\d+)-(\\\\d+)bp-(\\\\w+)\", \"\\\\3\", BarcodeSet))\n",
    "\n",
    "acc.summ = acc %>%\n",
    "    group_by(Demuxer, BarcodeSet, Correctness, nidx, paired) %>%\n",
    "    summarise(reads.mean = mean(Reads),\n",
    "              reads.sd = sd(Reads))"
   ]
  },
  {
   "cell_type": "code",
   "execution_count": null,
   "metadata": {
    "deletable": true,
    "editable": true
   },
   "outputs": [],
   "source": [
    "ggplot(acc, aes(x=Demuxer, y=Reads)) +\n",
    "    geom_bar(aes(fill=Correctness), stat=\"identity\") +\n",
    "    scale_fill_brewer(palette = \"Set1\") + #manual(values=c(\"green\", \"red\", \"blue\")) +\n",
    "    facet_wrap(~BarcodeSet, ncol = 3) + #, scales=\"free_x\") +\n",
    "    theme_bw()"
   ]
  },
  {
   "cell_type": "markdown",
   "metadata": {
    "deletable": true,
    "editable": true
   },
   "source": [
    "# Timing"
   ]
  },
  {
   "cell_type": "code",
   "execution_count": null,
   "metadata": {
    "deletable": true,
    "editable": true
   },
   "outputs": [],
   "source": [
    "timing = read.delim(\"../data/stats//timing_summary.tsv\") %>%\n",
    "    mutate(nidx = as.numeric(sub(\"(\\\\d+)-(\\\\d+)bp-(\\\\w+)\", \"\\\\1\", BarcodeSet)),\n",
    "           paired = sub(\"(\\\\d+)-(\\\\d+)bp-(\\\\w+)\", \"\\\\3\", BarcodeSet))"
   ]
  },
  {
   "cell_type": "code",
   "execution_count": null,
   "metadata": {
    "deletable": true,
    "editable": true
   },
   "outputs": [],
   "source": [
    "timing.summ = timing %>%\n",
    "    group_by(Demuxer, BarcodeSet, nidx, paired) %>%\n",
    "    summarise(time.mean = mean(Sec),\n",
    "              time.sd = sd(Sec))"
   ]
  },
  {
   "cell_type": "code",
   "execution_count": null,
   "metadata": {
    "deletable": true,
    "editable": true
   },
   "outputs": [],
   "source": [
    "ggplot(timing.summ, aes(x=Demuxer, y=time.mean)) +\n",
    "    geom_bar(aes(fill=Demuxer), stat=\"identity\") +\n",
    "    geom_errorbar(aes(ymin=time.mean-time.sd, ymax=time.mean+time.sd)) +\n",
    "    scale_fill_brewer(palette = \"Set1\") +\n",
    "    facet_wrap(~BarcodeSet, ncol=3) +\n",
    "    theme_bw()"
   ]
  },
  {
   "cell_type": "code",
   "execution_count": null,
   "metadata": {},
   "outputs": [],
   "source": [
    "ggplot(timing.summ, aes(x=nidx, y=time.mean)) +\n",
    "    geom_line(aes(linetype=Demuxer)) +\n",
    "    geom_ribbon(aes(ymin=time.mean-time.sd, ymax=time.mean+time.sd, colour=Demuxer, fill=Demuxer), alpha=0.2) +\n",
    "    facet_wrap(~paired, scales = \"free_x\")  +\n",
    "    scale_y_log10() +\n",
    "    theme_bw()"
   ]
  },
  {
   "cell_type": "code",
   "execution_count": null,
   "metadata": {},
   "outputs": [],
   "source": [
    "?facet_wrap"
   ]
  },
  {
   "cell_type": "code",
   "execution_count": null,
   "metadata": {},
   "outputs": [],
   "source": []
  }
 ],
 "metadata": {
  "kernelspec": {
   "display_name": "R",
   "language": "R",
   "name": "ir"
  }
 },
 "nbformat": 4,
 "nbformat_minor": 2
}
