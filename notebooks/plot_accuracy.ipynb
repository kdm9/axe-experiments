{
 "cells": [
  {
   "cell_type": "code",
   "execution_count": null,
   "metadata": {
    "deletable": true,
    "editable": true
   },
   "outputs": [],
   "source": [
    "library(tidyverse)\n",
    "library(ggplot2)\n",
    "library(naturalsort)\n",
    "library(Cairo)"
   ]
  },
  {
   "cell_type": "markdown",
   "metadata": {
    "deletable": true,
    "editable": true
   },
   "source": [
    "# Accuracy"
   ]
  },
  {
   "cell_type": "code",
   "execution_count": null,
   "metadata": {
    "deletable": true,
    "editable": true
   },
   "outputs": [],
   "source": [
    "acc =  read.delim(\"../data/stats/accuracy_summary.tsv\")\n",
    "\n",
    "acc = acc %>%\n",
    "    gather(\"Correctness\", \"Reads\", -Seed, -Demuxer, -BarcodeSet) %>%\n",
    "    mutate(nidx = as.numeric(sub(\"(\\\\d+)-(\\\\d+)bp-(\\\\w+)\", \"\\\\1\", BarcodeSet)),\n",
    "           paired = sub(\"(\\\\d+)-(\\\\d+)bp-(\\\\w+)\", \"\\\\3\", BarcodeSet),\n",
    "           BarcodeSet=naturalfactor(BarcodeSet))"
   ]
  },
  {
   "cell_type": "code",
   "execution_count": null,
   "metadata": {
    "deletable": true,
    "editable": true
   },
   "outputs": [],
   "source": [
    "acc.summ = acc %>%\n",
    "    group_by(Demuxer, BarcodeSet, Correctness, nidx, paired) %>%\n",
    "    summarise(reads.mean = mean(Reads),\n",
    "              reads.sd = sd(Reads))"
   ]
  },
  {
   "cell_type": "code",
   "execution_count": null,
   "metadata": {
    "deletable": true,
    "editable": true
   },
   "outputs": [],
   "source": [
    "p = ggplot(filter(acc, paired==\"se\"), aes(x=Demuxer, y=Reads)) +\n",
    "    geom_bar(aes(fill=Correctness), stat=\"identity\") +\n",
    "    scale_fill_brewer(palette = \"Set1\") +\n",
    "    facet_wrap(~BarcodeSet, ncol = 3) + #, scales=\"free_x\") +\n",
    "    theme_bw()\n",
    "\n",
    "print(p)"
   ]
  },
  {
   "cell_type": "code",
   "execution_count": null,
   "metadata": {
    "deletable": true,
    "editable": true
   },
   "outputs": [],
   "source": [
    "p = ggplot(filter(acc, paired==\"pe\"), aes(x=Demuxer, y=Reads)) +\n",
    "    geom_bar(aes(fill=Correctness), stat=\"identity\") +\n",
    "    scale_fill_brewer(palette = \"Set1\") +\n",
    "    facet_wrap(~BarcodeSet, ncol = 3) + #, scales=\"free_x\") +\n",
    "    theme_bw()\n",
    "\n",
    "print(p)"
   ]
  },
  {
   "cell_type": "code",
   "execution_count": null,
   "metadata": {
    "deletable": true,
    "editable": true
   },
   "outputs": [],
   "source": [
    "acc.total = acc %>% group_by(Demuxer, paired, Correctness) %>% summarise(reads=sum(Reads)) %>%\n",
    "        left_join(acc %>% group_by(Demuxer, paired) %>% summarise(total_reads=sum(Reads))) %>%\n",
    "        mutate(reads.prop = reads/total_reads,\n",
    "               reads.pct = reads.prop * 100) %>%\n",
    "        select(-total_reads)\n",
    "acc.wrong = acc.total %>% filter(Correctness != \"Correct\")\n",
    "\n",
    "p = ggplot(acc.wrong, aes(x=Demuxer, y=reads.pct)) +\n",
    "    geom_bar(aes(fill=Correctness), stat=\"identity\") +\n",
    "    scale_fill_brewer(palette = \"Set1\") +\n",
    "    facet_wrap(~paired, ncol = 3, scales=\"free_x\") +\n",
    "    xlab(\"Demultiplexer\") +\n",
    "    ylab(\"Percent of all reads\") +\n",
    "    theme_bw() +\n",
    "    theme(axis.text.x = element_text(angle=45, hjust=1))\n",
    "\n",
    "svg(\"accuracy_pct.svg\", width=5, height=3)\n",
    "print(p)\n",
    "dev.off()\n",
    "print(p)"
   ]
  },
  {
   "cell_type": "code",
   "execution_count": null,
   "metadata": {
    "deletable": true,
    "editable": true
   },
   "outputs": [],
   "source": [
    "acc.wrong"
   ]
  },
  {
   "cell_type": "code",
   "execution_count": null,
   "metadata": {
    "deletable": true,
    "editable": true
   },
   "outputs": [],
   "source": [
    "p = ggplot(acc.total, aes(x=Demuxer, y=reads.prop)) +\n",
    "    geom_bar(aes(fill=Correctness), stat=\"identity\") +\n",
    "    scale_fill_brewer(palette = \"Set1\") +\n",
    "    facet_wrap(~paired, ncol = 3, scales=\"free_x\") +\n",
    "    theme_bw() +\n",
    "    theme(axis.text.x=element_text(angle=45, hjust=1))\n",
    "\n",
    "svg(\"accuracy_total.svg\", width=4, height=3)\n",
    "print(p)\n",
    "dev.off()\n",
    "print(p)\n"
   ]
  },
  {
   "cell_type": "markdown",
   "metadata": {
    "deletable": true,
    "editable": true
   },
   "source": [
    "# Timing"
   ]
  },
  {
   "cell_type": "code",
   "execution_count": null,
   "metadata": {
    "deletable": true,
    "editable": true
   },
   "outputs": [],
   "source": [
    "timing = read.delim(\"../data/stats//timing_summary.tsv\") %>%\n",
    "    mutate(nidx = as.numeric(sub(\"(\\\\d+)-(\\\\d+)bp-(\\\\w+)\", \"\\\\1\", BarcodeSet)),\n",
    "           paired = sub(\"(\\\\d+)-(\\\\d+)bp-(\\\\w+)\", \"\\\\3\", BarcodeSet),\n",
    "           BarcodeSet=naturalfactor(BarcodeSet)) %>%\n",
    "    filter(nidx <=10000)"
   ]
  },
  {
   "cell_type": "code",
   "execution_count": null,
   "metadata": {
    "deletable": true,
    "editable": true
   },
   "outputs": [],
   "source": [
    "timing.summ = timing %>%\n",
    "    group_by(Demuxer, BarcodeSet, nidx, paired) %>%\n",
    "    summarise(time.mean = mean(Sec),\n",
    "              time.sd = sd(Sec))"
   ]
  },
  {
   "cell_type": "code",
   "execution_count": null,
   "metadata": {
    "deletable": true,
    "editable": true
   },
   "outputs": [],
   "source": [
    "p = ggplot(filter(timing.summ, paired==\"se\"), aes(x=Demuxer, y=time.mean)) +\n",
    "    geom_bar(aes(fill=Demuxer), stat=\"identity\") +\n",
    "    geom_errorbar(aes(ymin=time.mean-time.sd, ymax=time.mean+time.sd)) +\n",
    "    scale_fill_brewer(palette = \"Set1\") +\n",
    "    facet_wrap(~BarcodeSet, ncol=3) +\n",
    "    theme_bw()\n",
    "\n",
    "print(p)"
   ]
  },
  {
   "cell_type": "code",
   "execution_count": null,
   "metadata": {
    "deletable": true,
    "editable": true
   },
   "outputs": [],
   "source": [
    "p = ggplot(filter(timing.summ, paired==\"pe\"), aes(x=Demuxer, y=time.mean)) +\n",
    "    geom_bar(aes(fill=Demuxer), stat=\"identity\") +\n",
    "    geom_errorbar(aes(ymin=time.mean-time.sd, ymax=time.mean+time.sd)) +\n",
    "    scale_fill_brewer(palette = \"Set1\") +\n",
    "    facet_wrap(~BarcodeSet, ncol=3) +\n",
    "    theme_bw()\n",
    "\n",
    "print(p)"
   ]
  },
  {
   "cell_type": "code",
   "execution_count": null,
   "metadata": {
    "deletable": true,
    "editable": true
   },
   "outputs": [],
   "source": [
    "p = ggplot(timing.summ, aes(x=nidx, y=time.mean)) +\n",
    "    geom_line(aes(linetype=Demuxer)) +\n",
    "    geom_ribbon(aes(ymin=time.mean-time.sd, ymax=time.mean+time.sd, colour=Demuxer, fill=Demuxer), alpha=0.2) +\n",
    "    facet_wrap(~paired, scales = \"free\")  +\n",
    "    ylab(\"Time (s)\") +\n",
    "    xlab(\"Number of Samples\") +\n",
    "    theme_bw() + \n",
    "    theme(axis.text.x = element_text(angle = 45, hjust=1))\n",
    "\n",
    "\n",
    "svg(\"timing.svg\", width=5,height=3)\n",
    "print(p)\n",
    "dev.off()\n",
    "print(p)"
   ]
  },
  {
   "cell_type": "code",
   "execution_count": null,
   "metadata": {
    "deletable": true,
    "editable": true
   },
   "outputs": [],
   "source": [
    "p = ggplot(timing.summ, aes(x=nidx, y=time.mean)) +\n",
    "    geom_line(aes(linetype=Demuxer)) +\n",
    "    geom_ribbon(aes(ymin=time.mean-time.sd, ymax=time.mean+time.sd, colour=Demuxer, fill=Demuxer), alpha=0.2) +\n",
    "    facet_wrap(~paired, scales = \"free\")  +\n",
    "    ylab(\"Time (s)\") +\n",
    "    xlab(\"Number of Samples\") +\n",
    "    scale_y_log10() +\n",
    "    scale_x_log10() +\n",
    "    theme_bw()\n",
    "\n",
    "svg(\"timing_log.svg\", width=5,height=3)\n",
    "print(p)\n",
    "dev.off()\n",
    "print(p)"
   ]
  },
  {
   "cell_type": "code",
   "execution_count": null,
   "metadata": {
    "deletable": true,
    "editable": true
   },
   "outputs": [],
   "source": []
  }
 ],
 "metadata": {
  "kernelspec": {
   "display_name": "R",
   "language": "R",
   "name": "ir"
  },
  "language_info": {
   "codemirror_mode": "r",
   "file_extension": ".r",
   "mimetype": "text/x-r-source",
   "name": "R",
   "pygments_lexer": "r",
   "version": "3.3.3"
  }
 },
 "nbformat": 4,
 "nbformat_minor": 2
}
